{
 "cells": [
  {
   "cell_type": "code",
   "execution_count": 15,
   "metadata": {},
   "outputs": [],
   "source": [
    "def gradient_descent(f, x, y, z):\n",
    "\n",
    "    fpx = f.diff(x)  # Partial derivative of function with respect to x\n",
    "    fpy = f.diff(y)  # Partial derivative of function with respect to y\n",
    "\n",
    "    grad = [fpx, fpy]  # Gradient\n",
    "    # Data\n",
    "    theta = 0.1  # x\n",
    "    theta1 = 0.1  # y\n",
    "    eta = 0.01\n",
    "\n",
    "    iterations = 0\n",
    "    precision = 1 / 1000000\n",
    "    printData = True\n",
    "    pointChangeCount = 0\n",
    "    x_array = []\n",
    "    y_array = []\n",
    "    z_array = []\n",
    "    x_array.append(theta)\n",
    "    y_array.append(theta1)\n",
    "    print(\"Initial point w0 is (\" + str(theta) + \", \" + str(theta1) + \") and initial eta is \" + str(eta))\n",
    "\n",
    "    while True:\n",
    "        temptheta = theta - eta * N(fpx.subs(x, theta).subs(y, theta1)).evalf()\n",
    "        temptheta1 = theta1 - eta * N(fpy.subs(y, theta1)).subs(x, theta).evalf()\n",
    "\n",
    "        fxy = N(fpy.subs(x, temptheta)).subs(y, temptheta1).evalf()\n",
    "\n",
    "        # If the number of iterations goes up too much, theta and/or theta1 is diverging.\n",
    "        iterations += 1\n",
    "\n",
    "        if temptheta + temptheta1 >= 1:\n",
    "            pointChangeCount += 1\n",
    "            temptheta = random.uniform(0, 1)\n",
    "            temptheta1 = random.uniform(0, 1)\n",
    "            eta = 0.01 / pointChangeCount\n",
    "            print(\"New point w\" + str(pointChangeCount) + \" is (\" + str(temptheta) + \", \" + str(\n",
    "                temptheta1) + \") and new eta is \" + str(eta))\n",
    "\n",
    "        # If the change in the value of theta is very less or less than threshold, it is converged\n",
    "        if abs(temptheta - theta) < precision and abs(temptheta1 - theta1) < precision:\n",
    "            break\n",
    "\n",
    "        # Simultaneous update\n",
    "        theta = temptheta\n",
    "        theta1 = temptheta1\n",
    "        x_array.append(theta)\n",
    "        y_array.append(theta1)\n",
    "        z_array.append(fxy)\n",
    "\n",
    "    if printData:\n",
    "        print(\"The function \" + str(f) + \" converges to a minimum\")\n",
    "        print(\"Number of iterations:\", iterations, sep=\" \")\n",
    "        print(\"theta (x) =\", temptheta, sep=\" \")\n",
    "        print(\"theta1 (y) =\", temptheta1, sep=\" \")\n",
    "\n",
    "    for i in range(0, iterations):\n",
    "        plt.plot(x_array[i], y_array[i], 'ro')\n",
    "    plt.show()\n"
   ]
  },
  {
   "cell_type": "code",
   "execution_count": 16,
   "metadata": {},
   "outputs": [
    {
     "name": "stdout",
     "output_type": "stream",
     "text": [
      "Initial point w0 is (0.1, 0.1) and initial eta is 0.01\n",
      "The function -log(x) - log(y) - log(-x - y + 1) converges to a minimum\n",
      "Number of iterations: 37\n",
      "theta (x) = 0.333330978722242\n",
      "theta1 (y) = 0.333330978722242\n"
     ]
    },
    {
     "data": {
      "image/png": "[encoded data removed]",
      "text/plain": [
       "<Figure size 432x288 with 1 Axes>"
      ]
     },
     "metadata": {},
     "output_type": "display_data"
    }
   ],
   "source": [
    "import numpy as np\n",
    "import random\n",
    "import matplotlib.pyplot as plt\n",
    "from sympy import *\n",
    "from mpl_toolkits.mplot3d import Axes3D\n",
    "\n",
    "\n",
    "def main():\n",
    "    \n",
    "    x = Symbol('x')\n",
    "    y = Symbol('y')\n",
    "    z = Symbol('z')\n",
    "\n",
    "    f1 = log(1 - x - y)\n",
    "    f2 = log(x)\n",
    "    f3 = log(y)\n",
    "    f = -(f1 + f2 + f3)\n",
    "    gradient_descent(f, x, y, z)\n",
    "    \n",
    "main()"
   ]
  },
  {
   "cell_type": "code",
   "execution_count": null,
   "metadata": {},
   "outputs": [],
   "source": []
  },
  {
   "cell_type": "code",
   "execution_count": null,
   "metadata": {},
   "outputs": [],
   "source": []
  }
 ],
 "metadata": {
  "kernelspec": {
   "display_name": "Python 3",
   "language": "python",
   "name": "python3"
  },
  "language_info": {
   "codemirror_mode": {
    "name": "ipython",
    "version": 3
   },
   "file_extension": ".py",
   "mimetype": "text/x-python",
   "name": "python",
   "nbconvert_exporter": "python",
   "pygments_lexer": "ipython3",
   "version": "3.6.5"
  }
 },
 "nbformat": 4,
 "nbformat_minor": 2
}
